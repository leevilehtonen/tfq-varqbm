{
 "cells": [
  {
   "cell_type": "code",
   "execution_count": 1,
   "id": "4b147a4b",
   "metadata": {},
   "outputs": [
    {
     "name": "stderr",
     "output_type": "stream",
     "text": [
      "/home/lleevi/workspaces/QC/tfq-varqbm/qite.py:7: TqdmExperimentalWarning: Using `tqdm.autonotebook.tqdm` in notebook mode. Use `tqdm.tqdm` instead to force console mode (e.g. in jupyter console)\n",
      "  from tqdm.autonotebook import tqdm, trange\n"
     ]
    }
   ],
   "source": [
    "import cirq\n",
    "import numpy as np\n",
    "import tensorflow_quantum as tfq\n",
    "import pandas as pd\n",
    "\n",
    "from qite import QITE\n",
    "from circuit import build_ansatz, initialize_ansatz_symbols\n",
    "from problem import build_ising_model_hamiltonian\n",
    "from utils import evaluate_exact_state, plot_density_matrix_heatmap, get_ancillary_qubits, save_circuit_to_svg"
   ]
  },
  {
   "cell_type": "markdown",
   "id": "615200c7",
   "metadata": {},
   "source": [
    "## Define global variables\n",
    "\n",
    "Define global variables such as temperature used for determining evolution time"
   ]
  },
  {
   "cell_type": "code",
   "execution_count": 2,
   "id": "f5ee1fc6",
   "metadata": {},
   "outputs": [],
   "source": [
    "kBT = 1\n",
    "evolution_time = 1 / (2 * kBT)\n",
    "n_hamiltonian_qubits = 4\n",
    "n_timesteps = 100"
   ]
  },
  {
   "cell_type": "markdown",
   "id": "d5568c51",
   "metadata": {},
   "source": [
    "## Generate Hamiltonian\n",
    "\n",
    "We generate a Hamiltonian of transverse field Isisng model having 4 qubits \"fully connected\" and pauliterm coefficients sampled from uniform distribution of -2 to 2."
   ]
  },
  {
   "cell_type": "code",
   "execution_count": 3,
   "id": "fa3fb72c",
   "metadata": {},
   "outputs": [],
   "source": [
    "hamiltonian, problem_qubits = build_ising_model_hamiltonian([n_hamiltonian_qubits], random=True, random_low = -2, random_high=2)"
   ]
  },
  {
   "cell_type": "code",
   "execution_count": 4,
   "id": "a842e9e1",
   "metadata": {},
   "outputs": [
    {
     "name": "stdout",
     "output_type": "stream",
     "text": [
      "-0.866*Z((0, 0))*Z((1, 0))-0.138*Z((0, 0))*Z((2, 0))+0.003*Z((0, 0))*Z((3, 0))-0.520*Z((1, 0))*Z((2, 0))+1.228*Z((1, 0))*Z((3, 0))-0.569*Z((2, 0))*Z((3, 0))+0.276*Z((0, 0))+1.756*X((0, 0))-1.586*Z((1, 0))-0.558*X((1, 0))-0.216*Z((2, 0))+1.907*X((2, 0))-1.444*Z((3, 0))+1.736*X((3, 0))\n"
     ]
    }
   ],
   "source": [
    "print(hamiltonian)"
   ]
  },
  {
   "cell_type": "markdown",
   "id": "6dfcb5ff",
   "metadata": {},
   "source": [
    "### Exact thermal state\n",
    "\n",
    "Exact thermal state analytically by solving matrix exponential."
   ]
  },
  {
   "cell_type": "code",
   "execution_count": 5,
   "id": "f40a3671",
   "metadata": {},
   "outputs": [],
   "source": [
    "exact_state = evaluate_exact_state(hamiltonian, evolution_time)"
   ]
  },
  {
   "cell_type": "code",
   "execution_count": 6,
   "id": "3887fc24",
   "metadata": {},
   "outputs": [
    {
     "data": {
      "image/png": "[encoded data removed]",
      "text/plain": [
       "<Figure size 432x432 with 1 Axes>"
      ]
     },
     "metadata": {},
     "output_type": "display_data"
    }
   ],
   "source": [
    "plot_density_matrix_heatmap([exact_state], show = True, size = 6)"
   ]
  },
  {
   "cell_type": "markdown",
   "id": "b6fef780",
   "metadata": {},
   "source": [
    "## Define a variational circuit for VarQITE\n",
    "\n",
    "Define a variational circuit for VarQITE having good represenationa cababilities."
   ]
  },
  {
   "cell_type": "code",
   "execution_count": 7,
   "id": "b21b2cb2",
   "metadata": {},
   "outputs": [],
   "source": [
    "n_layers = 3\n",
    "rotations = [cirq.ry, cirq.rz]\n",
    "entanglers = [cirq.CNOT]\n",
    "pattern = \"chain\"\n",
    "ancillary_qubits = get_ancillary_qubits(problem_qubits)\n",
    "qubits = [*problem_qubits, *ancillary_qubits]\n",
    "\n",
    "circuit, symbol_names = build_ansatz(\n",
    "    qubits, n_layers, rotations, entanglers, pattern\n",
    ")\n",
    "initial_symbol_values = initialize_ansatz_symbols(\n",
    "    len(qubits),\n",
    "    n_layers,\n",
    "    len(rotations),\n",
    "    0,\n",
    "    np.pi / 2,\n",
    "    len(entanglers),\n",
    "    pattern,\n",
    ")"
   ]
  },
  {
   "cell_type": "code",
   "execution_count": 9,
   "id": "e98ef458",
   "metadata": {},
   "outputs": [
    {
     "data": {
      "image/svg+xml": [
       "<svg xmlns=\"http://www.w3.org/2000/svg\" width=\"3593.9255078125007\" height=\"440.0\"><line x1=\"34.7588671875\" x2=\"3563.9255078125007\" y1=\"45.0\" y2=\"45.0\" stroke=\"#1967d2\" stroke-width=\"1\" /><line x1=\"34.7588671875\" x2=\"3563.9255078125007\" y1=\"95.0\" y2=\"95.0\" stroke=\"#1967d2\" stroke-width=\"1\" /><line x1=\"34.7588671875\" x2=\"3563.9255078125007\" y1=\"145.0\" y2=\"145.0\" stroke=\"#1967d2\" stroke-width=\"1\" /><line x1=\"34.7588671875\" x2=\"3563.9255078125007\" y1=\"195.0\" y2=\"195.0\" stroke=\"#1967d2\" stroke-width=\"1\" /><line x1=\"34.7588671875\" x2=\"3563.9255078125007\" y1=\"245.0\" y2=\"245.0\" stroke=\"#1967d2\" stroke-width=\"1\" /><line x1=\"34.7588671875\" x2=\"3563.9255078125007\" y1=\"295.0\" y2=\"295.0\" stroke=\"#1967d2\" stroke-width=\"1\" /><line x1=\"34.7588671875\" x2=\"3563.9255078125007\" y1=\"345.0\" y2=\"345.0\" stroke=\"#1967d2\" stroke-width=\"1\" /><line x1=\"34.7588671875\" x2=\"3563.9255078125007\" y1=\"395.0\" y2=\"395.0\" stroke=\"#1967d2\" stroke-width=\"1\" /><line x1=\"3373.9255078125007\" x2=\"3543.9255078125007\" y1=\"5.0\" y2=\"5.0\" stroke=\"black\" stroke-width=\"1\" /><line x1=\"3373.9255078125007\" x2=\"3543.9255078125007\" y1=\"435.0\" y2=\"435.0\" stroke=\"black\" stroke-width=\"1\" /><line x1=\"376.68681640625\" x2=\"376.68681640625\" y1=\"45.0\" y2=\"95.0\" stroke=\"black\" stroke-width=\"3\" /><line x1=\"485.93583984375\" x2=\"485.93583984375\" y1=\"95.0\" y2=\"145.0\" stroke=\"black\" stroke-width=\"3\" /><line x1=\"595.18486328125\" x2=\"595.18486328125\" y1=\"145.0\" y2=\"195.0\" stroke=\"black\" stroke-width=\"3\" /><line x1=\"704.43388671875\" x2=\"704.43388671875\" y1=\"195.0\" y2=\"245.0\" stroke=\"black\" stroke-width=\"3\" /><line x1=\"813.68291015625\" x2=\"813.68291015625\" y1=\"245.0\" y2=\"295.0\" stroke=\"black\" stroke-width=\"3\" /><line x1=\"922.93193359375\" x2=\"922.93193359375\" y1=\"295.0\" y2=\"345.0\" stroke=\"black\" stroke-width=\"3\" /><line x1=\"1032.18095703125\" x2=\"1032.18095703125\" y1=\"345.0\" y2=\"395.0\" stroke=\"black\" stroke-width=\"3\" /><line x1=\"1393.9745507812502\" x2=\"1393.9745507812502\" y1=\"45.0\" y2=\"95.0\" stroke=\"black\" stroke-width=\"3\" /><line x1=\"1503.2235742187502\" x2=\"1503.2235742187502\" y1=\"95.0\" y2=\"145.0\" stroke=\"black\" stroke-width=\"3\" /><line x1=\"1612.4725976562502\" x2=\"1612.4725976562502\" y1=\"145.0\" y2=\"195.0\" stroke=\"black\" stroke-width=\"3\" /><line x1=\"1721.7216210937502\" x2=\"1721.7216210937502\" y1=\"195.0\" y2=\"245.0\" stroke=\"black\" stroke-width=\"3\" /><line x1=\"1830.9706445312502\" x2=\"1830.9706445312502\" y1=\"245.0\" y2=\"295.0\" stroke=\"black\" stroke-width=\"3\" /><line x1=\"1940.2196679687502\" x2=\"1940.2196679687502\" y1=\"295.0\" y2=\"345.0\" stroke=\"black\" stroke-width=\"3\" /><line x1=\"2049.4686914062504\" x2=\"2049.4686914062504\" y1=\"345.0\" y2=\"395.0\" stroke=\"black\" stroke-width=\"3\" /><line x1=\"2411.2622851562505\" x2=\"2411.2622851562505\" y1=\"45.0\" y2=\"95.0\" stroke=\"black\" stroke-width=\"3\" /><line x1=\"2520.5113085937505\" x2=\"2520.5113085937505\" y1=\"95.0\" y2=\"145.0\" stroke=\"black\" stroke-width=\"3\" /><line x1=\"2629.7603320312505\" x2=\"2629.7603320312505\" y1=\"145.0\" y2=\"195.0\" stroke=\"black\" stroke-width=\"3\" /><line x1=\"2739.0093554687505\" x2=\"2739.0093554687505\" y1=\"195.0\" y2=\"245.0\" stroke=\"black\" stroke-width=\"3\" /><line x1=\"2848.2583789062505\" x2=\"2848.2583789062505\" y1=\"245.0\" y2=\"295.0\" stroke=\"black\" stroke-width=\"3\" /><line x1=\"2957.5074023437505\" x2=\"2957.5074023437505\" y1=\"295.0\" y2=\"345.0\" stroke=\"black\" stroke-width=\"3\" /><line x1=\"3066.7564257812505\" x2=\"3066.7564257812505\" y1=\"345.0\" y2=\"395.0\" stroke=\"black\" stroke-width=\"3\" /><line x1=\"3393.9255078125007\" x2=\"3393.9255078125007\" y1=\"45.0\" y2=\"245.0\" stroke=\"black\" stroke-width=\"3\" /><line x1=\"3433.9255078125007\" x2=\"3433.9255078125007\" y1=\"95.0\" y2=\"295.0\" stroke=\"black\" stroke-width=\"3\" /><line x1=\"3473.9255078125007\" x2=\"3473.9255078125007\" y1=\"145.0\" y2=\"345.0\" stroke=\"black\" stroke-width=\"3\" /><line x1=\"3513.9255078125007\" x2=\"3513.9255078125007\" y1=\"195.0\" y2=\"395.0\" stroke=\"black\" stroke-width=\"3\" /><line x1=\"3373.9255078125007\" x2=\"3373.9255078125007\" y1=\"5.0\" y2=\"15.0\" stroke=\"black\" stroke-width=\"3\" /><line x1=\"3543.9255078125007\" x2=\"3543.9255078125007\" y1=\"5.0\" y2=\"15.0\" stroke=\"black\" stroke-width=\"3\" /><line x1=\"3373.9255078125007\" x2=\"3373.9255078125007\" y1=\"425.0\" y2=\"435.0\" stroke=\"black\" stroke-width=\"3\" /><line x1=\"3543.9255078125007\" x2=\"3543.9255078125007\" y1=\"425.0\" y2=\"435.0\" stroke=\"black\" stroke-width=\"3\" /><rect x=\"10.0\" y=\"25.0\" width=\"49.517734375\" height=\"40\" stroke=\"black\" fill=\"white\" stroke-width=\"0\" /><text x=\"34.7588671875\" y=\"45.0\" dominant-baseline=\"middle\" text-anchor=\"middle\" font-size=\"14px\" font-family=\"Arial\">(0, 0): </text><rect x=\"10.0\" y=\"75.0\" width=\"49.517734375\" height=\"40\" stroke=\"black\" fill=\"white\" stroke-width=\"0\" /><text x=\"34.7588671875\" y=\"95.0\" dominant-baseline=\"middle\" text-anchor=\"middle\" font-size=\"14px\" font-family=\"Arial\">(1, 0): </text><rect x=\"10.0\" y=\"125.0\" width=\"49.517734375\" height=\"40\" stroke=\"black\" fill=\"white\" stroke-width=\"0\" /><text x=\"34.7588671875\" y=\"145.0\" dominant-baseline=\"middle\" text-anchor=\"middle\" font-size=\"14px\" font-family=\"Arial\">(2, 0): </text><rect x=\"10.0\" y=\"175.0\" width=\"49.517734375\" height=\"40\" stroke=\"black\" fill=\"white\" stroke-width=\"0\" /><text x=\"34.7588671875\" y=\"195.0\" dominant-baseline=\"middle\" text-anchor=\"middle\" font-size=\"14px\" font-family=\"Arial\">(3, 0): </text><rect x=\"10.0\" y=\"225.0\" width=\"49.517734375\" height=\"40\" stroke=\"black\" fill=\"white\" stroke-width=\"0\" /><text x=\"34.7588671875\" y=\"245.0\" dominant-baseline=\"middle\" text-anchor=\"middle\" font-size=\"14px\" font-family=\"Arial\">(4, 0): </text><rect x=\"10.0\" y=\"275.0\" width=\"49.517734375\" height=\"40\" stroke=\"black\" fill=\"white\" stroke-width=\"0\" /><text x=\"34.7588671875\" y=\"295.0\" dominant-baseline=\"middle\" text-anchor=\"middle\" font-size=\"14px\" font-family=\"Arial\">(5, 0): </text><rect x=\"10.0\" y=\"325.0\" width=\"49.517734375\" height=\"40\" stroke=\"black\" fill=\"white\" stroke-width=\"0\" /><text x=\"34.7588671875\" y=\"345.0\" dominant-baseline=\"middle\" text-anchor=\"middle\" font-size=\"14px\" font-family=\"Arial\">(6, 0): </text><rect x=\"10.0\" y=\"375.0\" width=\"49.517734375\" height=\"40\" stroke=\"black\" fill=\"white\" stroke-width=\"0\" /><text x=\"34.7588671875\" y=\"395.0\" dominant-baseline=\"middle\" text-anchor=\"middle\" font-size=\"14px\" font-family=\"Arial\">(7, 0): </text><rect x=\"79.517734375\" y=\"25.0\" width=\"106.355546875\" height=\"40\" stroke=\"black\" fill=\"white\" stroke-width=\"1\" /><text x=\"132.6955078125\" y=\"45.0\" dominant-baseline=\"middle\" text-anchor=\"middle\" font-size=\"14px\" font-family=\"Arial\">Ry(theta_000)</text><rect x=\"79.517734375\" y=\"75.0\" width=\"106.355546875\" height=\"40\" stroke=\"black\" fill=\"white\" stroke-width=\"1\" /><text x=\"132.6955078125\" y=\"95.0\" dominant-baseline=\"middle\" text-anchor=\"middle\" font-size=\"14px\" font-family=\"Arial\">Ry(theta_010)</text><rect x=\"79.517734375\" y=\"125.0\" width=\"106.355546875\" height=\"40\" stroke=\"black\" fill=\"white\" stroke-width=\"1\" /><text x=\"132.6955078125\" y=\"145.0\" dominant-baseline=\"middle\" text-anchor=\"middle\" font-size=\"14px\" font-family=\"Arial\">Ry(theta_020)</text><rect x=\"79.517734375\" y=\"175.0\" width=\"106.355546875\" height=\"40\" stroke=\"black\" fill=\"white\" stroke-width=\"1\" /><text x=\"132.6955078125\" y=\"195.0\" dominant-baseline=\"middle\" text-anchor=\"middle\" font-size=\"14px\" font-family=\"Arial\">Ry(theta_030)</text><rect x=\"79.517734375\" y=\"225.0\" width=\"106.355546875\" height=\"40\" stroke=\"black\" fill=\"white\" stroke-width=\"1\" /><text x=\"132.6955078125\" y=\"245.0\" dominant-baseline=\"middle\" text-anchor=\"middle\" font-size=\"14px\" font-family=\"Arial\">Ry(theta_040)</text><rect x=\"79.517734375\" y=\"275.0\" width=\"106.355546875\" height=\"40\" stroke=\"black\" fill=\"white\" stroke-width=\"1\" /><text x=\"132.6955078125\" y=\"295.0\" dominant-baseline=\"middle\" text-anchor=\"middle\" font-size=\"14px\" font-family=\"Arial\">Ry(theta_050)</text><rect x=\"79.517734375\" y=\"325.0\" width=\"106.355546875\" height=\"40\" stroke=\"black\" fill=\"white\" stroke-width=\"1\" /><text x=\"132.6955078125\" y=\"345.0\" dominant-baseline=\"middle\" text-anchor=\"middle\" font-size=\"14px\" font-family=\"Arial\">Ry(theta_060)</text><rect x=\"79.517734375\" y=\"375.0\" width=\"106.355546875\" height=\"40\" stroke=\"black\" fill=\"white\" stroke-width=\"1\" /><text x=\"132.6955078125\" y=\"395.0\" dominant-baseline=\"middle\" text-anchor=\"middle\" font-size=\"14px\" font-family=\"Arial\">Ry(theta_070)</text><rect x=\"205.87328125000002\" y=\"25.0\" width=\"106.18902343750001\" height=\"40\" stroke=\"black\" fill=\"white\" stroke-width=\"1\" /><text x=\"258.96779296875\" y=\"45.0\" dominant-baseline=\"middle\" text-anchor=\"middle\" font-size=\"14px\" font-family=\"Arial\">Rz(theta_001)</text><rect x=\"205.87328125000002\" y=\"75.0\" width=\"106.18902343750001\" height=\"40\" stroke=\"black\" fill=\"white\" stroke-width=\"1\" /><text x=\"258.96779296875\" y=\"95.0\" dominant-baseline=\"middle\" text-anchor=\"middle\" font-size=\"14px\" font-family=\"Arial\">Rz(theta_011)</text><rect x=\"205.87328125000002\" y=\"125.0\" width=\"106.18902343750001\" height=\"40\" stroke=\"black\" fill=\"white\" stroke-width=\"1\" /><text x=\"258.96779296875\" y=\"145.0\" dominant-baseline=\"middle\" text-anchor=\"middle\" font-size=\"14px\" font-family=\"Arial\">Rz(theta_021)</text><rect x=\"205.87328125000002\" y=\"175.0\" width=\"106.18902343750001\" height=\"40\" stroke=\"black\" fill=\"white\" stroke-width=\"1\" /><text x=\"258.96779296875\" y=\"195.0\" dominant-baseline=\"middle\" text-anchor=\"middle\" font-size=\"14px\" font-family=\"Arial\">Rz(theta_031)</text><rect x=\"205.87328125000002\" y=\"225.0\" width=\"106.18902343750001\" height=\"40\" stroke=\"black\" fill=\"white\" stroke-width=\"1\" /><text x=\"258.96779296875\" y=\"245.0\" dominant-baseline=\"middle\" text-anchor=\"middle\" font-size=\"14px\" font-family=\"Arial\">Rz(theta_041)</text><rect x=\"205.87328125000002\" y=\"275.0\" width=\"106.18902343750001\" height=\"40\" stroke=\"black\" fill=\"white\" stroke-width=\"1\" /><text x=\"258.96779296875\" y=\"295.0\" dominant-baseline=\"middle\" text-anchor=\"middle\" font-size=\"14px\" font-family=\"Arial\">Rz(theta_051)</text><rect x=\"205.87328125000002\" y=\"325.0\" width=\"106.18902343750001\" height=\"40\" stroke=\"black\" fill=\"white\" stroke-width=\"1\" /><text x=\"258.96779296875\" y=\"345.0\" dominant-baseline=\"middle\" text-anchor=\"middle\" font-size=\"14px\" font-family=\"Arial\">Rz(theta_061)</text><rect x=\"205.87328125000002\" y=\"375.0\" width=\"106.18902343750001\" height=\"40\" stroke=\"black\" fill=\"white\" stroke-width=\"1\" /><text x=\"258.96779296875\" y=\"395.0\" dominant-baseline=\"middle\" text-anchor=\"middle\" font-size=\"14px\" font-family=\"Arial\">Rz(theta_071)</text><rect x=\"332.0623046875\" y=\"75.0\" width=\"89.24902343750001\" height=\"40\" stroke=\"black\" fill=\"white\" stroke-width=\"1\" /><text x=\"376.68681640625\" y=\"95.0\" dominant-baseline=\"middle\" text-anchor=\"middle\" font-size=\"14px\" font-family=\"Arial\">@^phi_000</text><rect x=\"332.0623046875\" y=\"25.0\" width=\"89.24902343750001\" height=\"40\" stroke=\"black\" fill=\"white\" stroke-width=\"1\" /><text x=\"376.68681640625\" y=\"45.0\" dominant-baseline=\"middle\" text-anchor=\"middle\" font-size=\"18px\" font-family=\"Arial\">X</text><rect x=\"441.311328125\" y=\"125.0\" width=\"89.24902343750001\" height=\"40\" stroke=\"black\" fill=\"white\" stroke-width=\"1\" /><text x=\"485.93583984375\" y=\"145.0\" dominant-baseline=\"middle\" text-anchor=\"middle\" font-size=\"14px\" font-family=\"Arial\">@^phi_010</text><rect x=\"441.311328125\" y=\"75.0\" width=\"89.24902343750001\" height=\"40\" stroke=\"black\" fill=\"white\" stroke-width=\"1\" /><text x=\"485.93583984375\" y=\"95.0\" dominant-baseline=\"middle\" text-anchor=\"middle\" font-size=\"18px\" font-family=\"Arial\">X</text><rect x=\"550.5603515625\" y=\"175.0\" width=\"89.24902343750001\" height=\"40\" stroke=\"black\" fill=\"white\" stroke-width=\"1\" /><text x=\"595.18486328125\" y=\"195.0\" dominant-baseline=\"middle\" text-anchor=\"middle\" font-size=\"14px\" font-family=\"Arial\">@^phi_020</text><rect x=\"550.5603515625\" y=\"125.0\" width=\"89.24902343750001\" height=\"40\" stroke=\"black\" fill=\"white\" stroke-width=\"1\" /><text x=\"595.18486328125\" y=\"145.0\" dominant-baseline=\"middle\" text-anchor=\"middle\" font-size=\"18px\" font-family=\"Arial\">X</text><rect x=\"659.809375\" y=\"225.0\" width=\"89.24902343750001\" height=\"40\" stroke=\"black\" fill=\"white\" stroke-width=\"1\" /><text x=\"704.43388671875\" y=\"245.0\" dominant-baseline=\"middle\" text-anchor=\"middle\" font-size=\"14px\" font-family=\"Arial\">@^phi_030</text><rect x=\"659.809375\" y=\"175.0\" width=\"89.24902343750001\" height=\"40\" stroke=\"black\" fill=\"white\" stroke-width=\"1\" /><text x=\"704.43388671875\" y=\"195.0\" dominant-baseline=\"middle\" text-anchor=\"middle\" font-size=\"18px\" font-family=\"Arial\">X</text><rect x=\"769.0583984375\" y=\"275.0\" width=\"89.24902343750001\" height=\"40\" stroke=\"black\" fill=\"white\" stroke-width=\"1\" /><text x=\"813.68291015625\" y=\"295.0\" dominant-baseline=\"middle\" text-anchor=\"middle\" font-size=\"14px\" font-family=\"Arial\">@^phi_040</text><rect x=\"769.0583984375\" y=\"225.0\" width=\"89.24902343750001\" height=\"40\" stroke=\"black\" fill=\"white\" stroke-width=\"1\" /><text x=\"813.68291015625\" y=\"245.0\" dominant-baseline=\"middle\" text-anchor=\"middle\" font-size=\"18px\" font-family=\"Arial\">X</text><rect x=\"878.307421875\" y=\"325.0\" width=\"89.24902343750001\" height=\"40\" stroke=\"black\" fill=\"white\" stroke-width=\"1\" /><text x=\"922.93193359375\" y=\"345.0\" dominant-baseline=\"middle\" text-anchor=\"middle\" font-size=\"14px\" font-family=\"Arial\">@^phi_050</text><rect x=\"878.307421875\" y=\"275.0\" width=\"89.24902343750001\" height=\"40\" stroke=\"black\" fill=\"white\" stroke-width=\"1\" /><text x=\"922.93193359375\" y=\"295.0\" dominant-baseline=\"middle\" text-anchor=\"middle\" font-size=\"18px\" font-family=\"Arial\">X</text><rect x=\"987.5564453125\" y=\"375.0\" width=\"89.24902343750001\" height=\"40\" stroke=\"black\" fill=\"white\" stroke-width=\"1\" /><text x=\"1032.18095703125\" y=\"395.0\" dominant-baseline=\"middle\" text-anchor=\"middle\" font-size=\"14px\" font-family=\"Arial\">@^phi_060</text><rect x=\"987.5564453125\" y=\"325.0\" width=\"89.24902343750001\" height=\"40\" stroke=\"black\" fill=\"white\" stroke-width=\"1\" /><text x=\"1032.18095703125\" y=\"345.0\" dominant-baseline=\"middle\" text-anchor=\"middle\" font-size=\"18px\" font-family=\"Arial\">X</text><rect x=\"1096.80546875\" y=\"25.0\" width=\"106.355546875\" height=\"40\" stroke=\"black\" fill=\"white\" stroke-width=\"1\" /><text x=\"1149.9832421875\" y=\"45.0\" dominant-baseline=\"middle\" text-anchor=\"middle\" font-size=\"14px\" font-family=\"Arial\">Ry(theta_100)</text><rect x=\"1096.80546875\" y=\"75.0\" width=\"106.355546875\" height=\"40\" stroke=\"black\" fill=\"white\" stroke-width=\"1\" /><text x=\"1149.9832421875\" y=\"95.0\" dominant-baseline=\"middle\" text-anchor=\"middle\" font-size=\"14px\" font-family=\"Arial\">Ry(theta_110)</text><rect x=\"1096.80546875\" y=\"125.0\" width=\"106.355546875\" height=\"40\" stroke=\"black\" fill=\"white\" stroke-width=\"1\" /><text x=\"1149.9832421875\" y=\"145.0\" dominant-baseline=\"middle\" text-anchor=\"middle\" font-size=\"14px\" font-family=\"Arial\">Ry(theta_120)</text><rect x=\"1096.80546875\" y=\"175.0\" width=\"106.355546875\" height=\"40\" stroke=\"black\" fill=\"white\" stroke-width=\"1\" /><text x=\"1149.9832421875\" y=\"195.0\" dominant-baseline=\"middle\" text-anchor=\"middle\" font-size=\"14px\" font-family=\"Arial\">Ry(theta_130)</text><rect x=\"1096.80546875\" y=\"225.0\" width=\"106.355546875\" height=\"40\" stroke=\"black\" fill=\"white\" stroke-width=\"1\" /><text x=\"1149.9832421875\" y=\"245.0\" dominant-baseline=\"middle\" text-anchor=\"middle\" font-size=\"14px\" font-family=\"Arial\">Ry(theta_140)</text><rect x=\"1096.80546875\" y=\"275.0\" width=\"106.355546875\" height=\"40\" stroke=\"black\" fill=\"white\" stroke-width=\"1\" /><text x=\"1149.9832421875\" y=\"295.0\" dominant-baseline=\"middle\" text-anchor=\"middle\" font-size=\"14px\" font-family=\"Arial\">Ry(theta_150)</text><rect x=\"1096.80546875\" y=\"325.0\" width=\"106.355546875\" height=\"40\" stroke=\"black\" fill=\"white\" stroke-width=\"1\" /><text x=\"1149.9832421875\" y=\"345.0\" dominant-baseline=\"middle\" text-anchor=\"middle\" font-size=\"14px\" font-family=\"Arial\">Ry(theta_160)</text><rect x=\"1096.80546875\" y=\"375.0\" width=\"106.355546875\" height=\"40\" stroke=\"black\" fill=\"white\" stroke-width=\"1\" /><text x=\"1149.9832421875\" y=\"395.0\" dominant-baseline=\"middle\" text-anchor=\"middle\" font-size=\"14px\" font-family=\"Arial\">Ry(theta_170)</text><rect x=\"1223.1610156250001\" y=\"25.0\" width=\"106.18902343750001\" height=\"40\" stroke=\"black\" fill=\"white\" stroke-width=\"1\" /><text x=\"1276.2555273437501\" y=\"45.0\" dominant-baseline=\"middle\" text-anchor=\"middle\" font-size=\"14px\" font-family=\"Arial\">Rz(theta_101)</text><rect x=\"1223.1610156250001\" y=\"75.0\" width=\"106.18902343750001\" height=\"40\" stroke=\"black\" fill=\"white\" stroke-width=\"1\" /><text x=\"1276.2555273437501\" y=\"95.0\" dominant-baseline=\"middle\" text-anchor=\"middle\" font-size=\"14px\" font-family=\"Arial\">Rz(theta_111)</text><rect x=\"1223.1610156250001\" y=\"125.0\" width=\"106.18902343750001\" height=\"40\" stroke=\"black\" fill=\"white\" stroke-width=\"1\" /><text x=\"1276.2555273437501\" y=\"145.0\" dominant-baseline=\"middle\" text-anchor=\"middle\" font-size=\"14px\" font-family=\"Arial\">Rz(theta_121)</text><rect x=\"1223.1610156250001\" y=\"175.0\" width=\"106.18902343750001\" height=\"40\" stroke=\"black\" fill=\"white\" stroke-width=\"1\" /><text x=\"1276.2555273437501\" y=\"195.0\" dominant-baseline=\"middle\" text-anchor=\"middle\" font-size=\"14px\" font-family=\"Arial\">Rz(theta_131)</text><rect x=\"1223.1610156250001\" y=\"225.0\" width=\"106.18902343750001\" height=\"40\" stroke=\"black\" fill=\"white\" stroke-width=\"1\" /><text x=\"1276.2555273437501\" y=\"245.0\" dominant-baseline=\"middle\" text-anchor=\"middle\" font-size=\"14px\" font-family=\"Arial\">Rz(theta_141)</text><rect x=\"1223.1610156250001\" y=\"275.0\" width=\"106.18902343750001\" height=\"40\" stroke=\"black\" fill=\"white\" stroke-width=\"1\" /><text x=\"1276.2555273437501\" y=\"295.0\" dominant-baseline=\"middle\" text-anchor=\"middle\" font-size=\"14px\" font-family=\"Arial\">Rz(theta_151)</text><rect x=\"1223.1610156250001\" y=\"325.0\" width=\"106.18902343750001\" height=\"40\" stroke=\"black\" fill=\"white\" stroke-width=\"1\" /><text x=\"1276.2555273437501\" y=\"345.0\" dominant-baseline=\"middle\" text-anchor=\"middle\" font-size=\"14px\" font-family=\"Arial\">Rz(theta_161)</text><rect x=\"1223.1610156250001\" y=\"375.0\" width=\"106.18902343750001\" height=\"40\" stroke=\"black\" fill=\"white\" stroke-width=\"1\" /><text x=\"1276.2555273437501\" y=\"395.0\" dominant-baseline=\"middle\" text-anchor=\"middle\" font-size=\"14px\" font-family=\"Arial\">Rz(theta_171)</text><rect x=\"1349.3500390625002\" y=\"75.0\" width=\"89.24902343750001\" height=\"40\" stroke=\"black\" fill=\"white\" stroke-width=\"1\" /><text x=\"1393.9745507812502\" y=\"95.0\" dominant-baseline=\"middle\" text-anchor=\"middle\" font-size=\"14px\" font-family=\"Arial\">@^phi_100</text><rect x=\"1349.3500390625002\" y=\"25.0\" width=\"89.24902343750001\" height=\"40\" stroke=\"black\" fill=\"white\" stroke-width=\"1\" /><text x=\"1393.9745507812502\" y=\"45.0\" dominant-baseline=\"middle\" text-anchor=\"middle\" font-size=\"18px\" font-family=\"Arial\">X</text><rect x=\"1458.5990625000002\" y=\"125.0\" width=\"89.24902343750001\" height=\"40\" stroke=\"black\" fill=\"white\" stroke-width=\"1\" /><text x=\"1503.2235742187502\" y=\"145.0\" dominant-baseline=\"middle\" text-anchor=\"middle\" font-size=\"14px\" font-family=\"Arial\">@^phi_110</text><rect x=\"1458.5990625000002\" y=\"75.0\" width=\"89.24902343750001\" height=\"40\" stroke=\"black\" fill=\"white\" stroke-width=\"1\" /><text x=\"1503.2235742187502\" y=\"95.0\" dominant-baseline=\"middle\" text-anchor=\"middle\" font-size=\"18px\" font-family=\"Arial\">X</text><rect x=\"1567.8480859375002\" y=\"175.0\" width=\"89.24902343750001\" height=\"40\" stroke=\"black\" fill=\"white\" stroke-width=\"1\" /><text x=\"1612.4725976562502\" y=\"195.0\" dominant-baseline=\"middle\" text-anchor=\"middle\" font-size=\"14px\" font-family=\"Arial\">@^phi_120</text><rect x=\"1567.8480859375002\" y=\"125.0\" width=\"89.24902343750001\" height=\"40\" stroke=\"black\" fill=\"white\" stroke-width=\"1\" /><text x=\"1612.4725976562502\" y=\"145.0\" dominant-baseline=\"middle\" text-anchor=\"middle\" font-size=\"18px\" font-family=\"Arial\">X</text><rect x=\"1677.0971093750002\" y=\"225.0\" width=\"89.24902343750001\" height=\"40\" stroke=\"black\" fill=\"white\" stroke-width=\"1\" /><text x=\"1721.7216210937502\" y=\"245.0\" dominant-baseline=\"middle\" text-anchor=\"middle\" font-size=\"14px\" font-family=\"Arial\">@^phi_130</text><rect x=\"1677.0971093750002\" y=\"175.0\" width=\"89.24902343750001\" height=\"40\" stroke=\"black\" fill=\"white\" stroke-width=\"1\" /><text x=\"1721.7216210937502\" y=\"195.0\" dominant-baseline=\"middle\" text-anchor=\"middle\" font-size=\"18px\" font-family=\"Arial\">X</text><rect x=\"1786.3461328125002\" y=\"275.0\" width=\"89.24902343750001\" height=\"40\" stroke=\"black\" fill=\"white\" stroke-width=\"1\" /><text x=\"1830.9706445312502\" y=\"295.0\" dominant-baseline=\"middle\" text-anchor=\"middle\" font-size=\"14px\" font-family=\"Arial\">@^phi_140</text><rect x=\"1786.3461328125002\" y=\"225.0\" width=\"89.24902343750001\" height=\"40\" stroke=\"black\" fill=\"white\" stroke-width=\"1\" /><text x=\"1830.9706445312502\" y=\"245.0\" dominant-baseline=\"middle\" text-anchor=\"middle\" font-size=\"18px\" font-family=\"Arial\">X</text><rect x=\"1895.5951562500002\" y=\"325.0\" width=\"89.24902343750001\" height=\"40\" stroke=\"black\" fill=\"white\" stroke-width=\"1\" /><text x=\"1940.2196679687502\" y=\"345.0\" dominant-baseline=\"middle\" text-anchor=\"middle\" font-size=\"14px\" font-family=\"Arial\">@^phi_150</text><rect x=\"1895.5951562500002\" y=\"275.0\" width=\"89.24902343750001\" height=\"40\" stroke=\"black\" fill=\"white\" stroke-width=\"1\" /><text x=\"1940.2196679687502\" y=\"295.0\" dominant-baseline=\"middle\" text-anchor=\"middle\" font-size=\"18px\" font-family=\"Arial\">X</text><rect x=\"2004.8441796875004\" y=\"375.0\" width=\"89.24902343750001\" height=\"40\" stroke=\"black\" fill=\"white\" stroke-width=\"1\" /><text x=\"2049.4686914062504\" y=\"395.0\" dominant-baseline=\"middle\" text-anchor=\"middle\" font-size=\"14px\" font-family=\"Arial\">@^phi_160</text><rect x=\"2004.8441796875004\" y=\"325.0\" width=\"89.24902343750001\" height=\"40\" stroke=\"black\" fill=\"white\" stroke-width=\"1\" /><text x=\"2049.4686914062504\" y=\"345.0\" dominant-baseline=\"middle\" text-anchor=\"middle\" font-size=\"18px\" font-family=\"Arial\">X</text><rect x=\"2114.0932031250004\" y=\"25.0\" width=\"106.355546875\" height=\"40\" stroke=\"black\" fill=\"white\" stroke-width=\"1\" /><text x=\"2167.2709765625004\" y=\"45.0\" dominant-baseline=\"middle\" text-anchor=\"middle\" font-size=\"14px\" font-family=\"Arial\">Ry(theta_200)</text><rect x=\"2114.0932031250004\" y=\"75.0\" width=\"106.355546875\" height=\"40\" stroke=\"black\" fill=\"white\" stroke-width=\"1\" /><text x=\"2167.2709765625004\" y=\"95.0\" dominant-baseline=\"middle\" text-anchor=\"middle\" font-size=\"14px\" font-family=\"Arial\">Ry(theta_210)</text><rect x=\"2114.0932031250004\" y=\"125.0\" width=\"106.355546875\" height=\"40\" stroke=\"black\" fill=\"white\" stroke-width=\"1\" /><text x=\"2167.2709765625004\" y=\"145.0\" dominant-baseline=\"middle\" text-anchor=\"middle\" font-size=\"14px\" font-family=\"Arial\">Ry(theta_220)</text><rect x=\"2114.0932031250004\" y=\"175.0\" width=\"106.355546875\" height=\"40\" stroke=\"black\" fill=\"white\" stroke-width=\"1\" /><text x=\"2167.2709765625004\" y=\"195.0\" dominant-baseline=\"middle\" text-anchor=\"middle\" font-size=\"14px\" font-family=\"Arial\">Ry(theta_230)</text><rect x=\"2114.0932031250004\" y=\"225.0\" width=\"106.355546875\" height=\"40\" stroke=\"black\" fill=\"white\" stroke-width=\"1\" /><text x=\"2167.2709765625004\" y=\"245.0\" dominant-baseline=\"middle\" text-anchor=\"middle\" font-size=\"14px\" font-family=\"Arial\">Ry(theta_240)</text><rect x=\"2114.0932031250004\" y=\"275.0\" width=\"106.355546875\" height=\"40\" stroke=\"black\" fill=\"white\" stroke-width=\"1\" /><text x=\"2167.2709765625004\" y=\"295.0\" dominant-baseline=\"middle\" text-anchor=\"middle\" font-size=\"14px\" font-family=\"Arial\">Ry(theta_250)</text><rect x=\"2114.0932031250004\" y=\"325.0\" width=\"106.355546875\" height=\"40\" stroke=\"black\" fill=\"white\" stroke-width=\"1\" /><text x=\"2167.2709765625004\" y=\"345.0\" dominant-baseline=\"middle\" text-anchor=\"middle\" font-size=\"14px\" font-family=\"Arial\">Ry(theta_260)</text><rect x=\"2114.0932031250004\" y=\"375.0\" width=\"106.355546875\" height=\"40\" stroke=\"black\" fill=\"white\" stroke-width=\"1\" /><text x=\"2167.2709765625004\" y=\"395.0\" dominant-baseline=\"middle\" text-anchor=\"middle\" font-size=\"14px\" font-family=\"Arial\">Ry(theta_270)</text><rect x=\"2240.4487500000005\" y=\"25.0\" width=\"106.18902343750001\" height=\"40\" stroke=\"black\" fill=\"white\" stroke-width=\"1\" /><text x=\"2293.5432617187503\" y=\"45.0\" dominant-baseline=\"middle\" text-anchor=\"middle\" font-size=\"14px\" font-family=\"Arial\">Rz(theta_201)</text><rect x=\"2240.4487500000005\" y=\"75.0\" width=\"106.18902343750001\" height=\"40\" stroke=\"black\" fill=\"white\" stroke-width=\"1\" /><text x=\"2293.5432617187503\" y=\"95.0\" dominant-baseline=\"middle\" text-anchor=\"middle\" font-size=\"14px\" font-family=\"Arial\">Rz(theta_211)</text><rect x=\"2240.4487500000005\" y=\"125.0\" width=\"106.18902343750001\" height=\"40\" stroke=\"black\" fill=\"white\" stroke-width=\"1\" /><text x=\"2293.5432617187503\" y=\"145.0\" dominant-baseline=\"middle\" text-anchor=\"middle\" font-size=\"14px\" font-family=\"Arial\">Rz(theta_221)</text><rect x=\"2240.4487500000005\" y=\"175.0\" width=\"106.18902343750001\" height=\"40\" stroke=\"black\" fill=\"white\" stroke-width=\"1\" /><text x=\"2293.5432617187503\" y=\"195.0\" dominant-baseline=\"middle\" text-anchor=\"middle\" font-size=\"14px\" font-family=\"Arial\">Rz(theta_231)</text><rect x=\"2240.4487500000005\" y=\"225.0\" width=\"106.18902343750001\" height=\"40\" stroke=\"black\" fill=\"white\" stroke-width=\"1\" /><text x=\"2293.5432617187503\" y=\"245.0\" dominant-baseline=\"middle\" text-anchor=\"middle\" font-size=\"14px\" font-family=\"Arial\">Rz(theta_241)</text><rect x=\"2240.4487500000005\" y=\"275.0\" width=\"106.18902343750001\" height=\"40\" stroke=\"black\" fill=\"white\" stroke-width=\"1\" /><text x=\"2293.5432617187503\" y=\"295.0\" dominant-baseline=\"middle\" text-anchor=\"middle\" font-size=\"14px\" font-family=\"Arial\">Rz(theta_251)</text><rect x=\"2240.4487500000005\" y=\"325.0\" width=\"106.18902343750001\" height=\"40\" stroke=\"black\" fill=\"white\" stroke-width=\"1\" /><text x=\"2293.5432617187503\" y=\"345.0\" dominant-baseline=\"middle\" text-anchor=\"middle\" font-size=\"14px\" font-family=\"Arial\">Rz(theta_261)</text><rect x=\"2240.4487500000005\" y=\"375.0\" width=\"106.18902343750001\" height=\"40\" stroke=\"black\" fill=\"white\" stroke-width=\"1\" /><text x=\"2293.5432617187503\" y=\"395.0\" dominant-baseline=\"middle\" text-anchor=\"middle\" font-size=\"14px\" font-family=\"Arial\">Rz(theta_271)</text><rect x=\"2366.6377734375005\" y=\"75.0\" width=\"89.24902343750001\" height=\"40\" stroke=\"black\" fill=\"white\" stroke-width=\"1\" /><text x=\"2411.2622851562505\" y=\"95.0\" dominant-baseline=\"middle\" text-anchor=\"middle\" font-size=\"14px\" font-family=\"Arial\">@^phi_200</text><rect x=\"2366.6377734375005\" y=\"25.0\" width=\"89.24902343750001\" height=\"40\" stroke=\"black\" fill=\"white\" stroke-width=\"1\" /><text x=\"2411.2622851562505\" y=\"45.0\" dominant-baseline=\"middle\" text-anchor=\"middle\" font-size=\"18px\" font-family=\"Arial\">X</text><rect x=\"2475.8867968750005\" y=\"125.0\" width=\"89.24902343750001\" height=\"40\" stroke=\"black\" fill=\"white\" stroke-width=\"1\" /><text x=\"2520.5113085937505\" y=\"145.0\" dominant-baseline=\"middle\" text-anchor=\"middle\" font-size=\"14px\" font-family=\"Arial\">@^phi_210</text><rect x=\"2475.8867968750005\" y=\"75.0\" width=\"89.24902343750001\" height=\"40\" stroke=\"black\" fill=\"white\" stroke-width=\"1\" /><text x=\"2520.5113085937505\" y=\"95.0\" dominant-baseline=\"middle\" text-anchor=\"middle\" font-size=\"18px\" font-family=\"Arial\">X</text><rect x=\"2585.1358203125005\" y=\"175.0\" width=\"89.24902343750001\" height=\"40\" stroke=\"black\" fill=\"white\" stroke-width=\"1\" /><text x=\"2629.7603320312505\" y=\"195.0\" dominant-baseline=\"middle\" text-anchor=\"middle\" font-size=\"14px\" font-family=\"Arial\">@^phi_220</text><rect x=\"2585.1358203125005\" y=\"125.0\" width=\"89.24902343750001\" height=\"40\" stroke=\"black\" fill=\"white\" stroke-width=\"1\" /><text x=\"2629.7603320312505\" y=\"145.0\" dominant-baseline=\"middle\" text-anchor=\"middle\" font-size=\"18px\" font-family=\"Arial\">X</text><rect x=\"2694.3848437500005\" y=\"225.0\" width=\"89.24902343750001\" height=\"40\" stroke=\"black\" fill=\"white\" stroke-width=\"1\" /><text x=\"2739.0093554687505\" y=\"245.0\" dominant-baseline=\"middle\" text-anchor=\"middle\" font-size=\"14px\" font-family=\"Arial\">@^phi_230</text><rect x=\"2694.3848437500005\" y=\"175.0\" width=\"89.24902343750001\" height=\"40\" stroke=\"black\" fill=\"white\" stroke-width=\"1\" /><text x=\"2739.0093554687505\" y=\"195.0\" dominant-baseline=\"middle\" text-anchor=\"middle\" font-size=\"18px\" font-family=\"Arial\">X</text><rect x=\"2803.6338671875005\" y=\"275.0\" width=\"89.24902343750001\" height=\"40\" stroke=\"black\" fill=\"white\" stroke-width=\"1\" /><text x=\"2848.2583789062505\" y=\"295.0\" dominant-baseline=\"middle\" text-anchor=\"middle\" font-size=\"14px\" font-family=\"Arial\">@^phi_240</text><rect x=\"2803.6338671875005\" y=\"225.0\" width=\"89.24902343750001\" height=\"40\" stroke=\"black\" fill=\"white\" stroke-width=\"1\" /><text x=\"2848.2583789062505\" y=\"245.0\" dominant-baseline=\"middle\" text-anchor=\"middle\" font-size=\"18px\" font-family=\"Arial\">X</text><rect x=\"2912.8828906250005\" y=\"325.0\" width=\"89.24902343750001\" height=\"40\" stroke=\"black\" fill=\"white\" stroke-width=\"1\" /><text x=\"2957.5074023437505\" y=\"345.0\" dominant-baseline=\"middle\" text-anchor=\"middle\" font-size=\"14px\" font-family=\"Arial\">@^phi_250</text><rect x=\"2912.8828906250005\" y=\"275.0\" width=\"89.24902343750001\" height=\"40\" stroke=\"black\" fill=\"white\" stroke-width=\"1\" /><text x=\"2957.5074023437505\" y=\"295.0\" dominant-baseline=\"middle\" text-anchor=\"middle\" font-size=\"18px\" font-family=\"Arial\">X</text><rect x=\"3022.1319140625005\" y=\"375.0\" width=\"89.24902343750001\" height=\"40\" stroke=\"black\" fill=\"white\" stroke-width=\"1\" /><text x=\"3066.7564257812505\" y=\"395.0\" dominant-baseline=\"middle\" text-anchor=\"middle\" font-size=\"14px\" font-family=\"Arial\">@^phi_260</text><rect x=\"3022.1319140625005\" y=\"325.0\" width=\"89.24902343750001\" height=\"40\" stroke=\"black\" fill=\"white\" stroke-width=\"1\" /><text x=\"3066.7564257812505\" y=\"345.0\" dominant-baseline=\"middle\" text-anchor=\"middle\" font-size=\"18px\" font-family=\"Arial\">X</text><rect x=\"3131.3809375000005\" y=\"25.0\" width=\"106.355546875\" height=\"40\" stroke=\"black\" fill=\"white\" stroke-width=\"1\" /><text x=\"3184.5587109375006\" y=\"45.0\" dominant-baseline=\"middle\" text-anchor=\"middle\" font-size=\"14px\" font-family=\"Arial\">Ry(theta_300)</text><rect x=\"3131.3809375000005\" y=\"75.0\" width=\"106.355546875\" height=\"40\" stroke=\"black\" fill=\"white\" stroke-width=\"1\" /><text x=\"3184.5587109375006\" y=\"95.0\" dominant-baseline=\"middle\" text-anchor=\"middle\" font-size=\"14px\" font-family=\"Arial\">Ry(theta_310)</text><rect x=\"3131.3809375000005\" y=\"125.0\" width=\"106.355546875\" height=\"40\" stroke=\"black\" fill=\"white\" stroke-width=\"1\" /><text x=\"3184.5587109375006\" y=\"145.0\" dominant-baseline=\"middle\" text-anchor=\"middle\" font-size=\"14px\" font-family=\"Arial\">Ry(theta_320)</text><rect x=\"3131.3809375000005\" y=\"175.0\" width=\"106.355546875\" height=\"40\" stroke=\"black\" fill=\"white\" stroke-width=\"1\" /><text x=\"3184.5587109375006\" y=\"195.0\" dominant-baseline=\"middle\" text-anchor=\"middle\" font-size=\"14px\" font-family=\"Arial\">Ry(theta_330)</text><rect x=\"3131.3809375000005\" y=\"225.0\" width=\"106.355546875\" height=\"40\" stroke=\"black\" fill=\"white\" stroke-width=\"1\" /><text x=\"3184.5587109375006\" y=\"245.0\" dominant-baseline=\"middle\" text-anchor=\"middle\" font-size=\"14px\" font-family=\"Arial\">Ry(theta_340)</text><rect x=\"3131.3809375000005\" y=\"275.0\" width=\"106.355546875\" height=\"40\" stroke=\"black\" fill=\"white\" stroke-width=\"1\" /><text x=\"3184.5587109375006\" y=\"295.0\" dominant-baseline=\"middle\" text-anchor=\"middle\" font-size=\"14px\" font-family=\"Arial\">Ry(theta_350)</text><rect x=\"3131.3809375000005\" y=\"325.0\" width=\"106.355546875\" height=\"40\" stroke=\"black\" fill=\"white\" stroke-width=\"1\" /><text x=\"3184.5587109375006\" y=\"345.0\" dominant-baseline=\"middle\" text-anchor=\"middle\" font-size=\"14px\" font-family=\"Arial\">Ry(theta_360)</text><rect x=\"3131.3809375000005\" y=\"375.0\" width=\"106.355546875\" height=\"40\" stroke=\"black\" fill=\"white\" stroke-width=\"1\" /><text x=\"3184.5587109375006\" y=\"395.0\" dominant-baseline=\"middle\" text-anchor=\"middle\" font-size=\"14px\" font-family=\"Arial\">Ry(theta_370)</text><rect x=\"3257.7364843750006\" y=\"25.0\" width=\"106.18902343750001\" height=\"40\" stroke=\"black\" fill=\"white\" stroke-width=\"1\" /><text x=\"3310.8309960937504\" y=\"45.0\" dominant-baseline=\"middle\" text-anchor=\"middle\" font-size=\"14px\" font-family=\"Arial\">Rz(theta_301)</text><rect x=\"3257.7364843750006\" y=\"75.0\" width=\"106.18902343750001\" height=\"40\" stroke=\"black\" fill=\"white\" stroke-width=\"1\" /><text x=\"3310.8309960937504\" y=\"95.0\" dominant-baseline=\"middle\" text-anchor=\"middle\" font-size=\"14px\" font-family=\"Arial\">Rz(theta_311)</text><rect x=\"3257.7364843750006\" y=\"125.0\" width=\"106.18902343750001\" height=\"40\" stroke=\"black\" fill=\"white\" stroke-width=\"1\" /><text x=\"3310.8309960937504\" y=\"145.0\" dominant-baseline=\"middle\" text-anchor=\"middle\" font-size=\"14px\" font-family=\"Arial\">Rz(theta_321)</text><rect x=\"3257.7364843750006\" y=\"175.0\" width=\"106.18902343750001\" height=\"40\" stroke=\"black\" fill=\"white\" stroke-width=\"1\" /><text x=\"3310.8309960937504\" y=\"195.0\" dominant-baseline=\"middle\" text-anchor=\"middle\" font-size=\"14px\" font-family=\"Arial\">Rz(theta_331)</text><rect x=\"3257.7364843750006\" y=\"225.0\" width=\"106.18902343750001\" height=\"40\" stroke=\"black\" fill=\"white\" stroke-width=\"1\" /><text x=\"3310.8309960937504\" y=\"245.0\" dominant-baseline=\"middle\" text-anchor=\"middle\" font-size=\"14px\" font-family=\"Arial\">Rz(theta_341)</text><rect x=\"3257.7364843750006\" y=\"275.0\" width=\"106.18902343750001\" height=\"40\" stroke=\"black\" fill=\"white\" stroke-width=\"1\" /><text x=\"3310.8309960937504\" y=\"295.0\" dominant-baseline=\"middle\" text-anchor=\"middle\" font-size=\"14px\" font-family=\"Arial\">Rz(theta_351)</text><rect x=\"3257.7364843750006\" y=\"325.0\" width=\"106.18902343750001\" height=\"40\" stroke=\"black\" fill=\"white\" stroke-width=\"1\" /><text x=\"3310.8309960937504\" y=\"345.0\" dominant-baseline=\"middle\" text-anchor=\"middle\" font-size=\"14px\" font-family=\"Arial\">Rz(theta_361)</text><rect x=\"3257.7364843750006\" y=\"375.0\" width=\"106.18902343750001\" height=\"40\" stroke=\"black\" fill=\"white\" stroke-width=\"1\" /><text x=\"3310.8309960937504\" y=\"395.0\" dominant-baseline=\"middle\" text-anchor=\"middle\" font-size=\"14px\" font-family=\"Arial\">Rz(theta_371)</text><circle cx=\"3393.9255078125007\" cy=\"45.0\" r=\"10.0\" /><rect x=\"3373.9255078125007\" y=\"225.0\" width=\"40\" height=\"40\" stroke=\"black\" fill=\"white\" stroke-width=\"1\" /><text x=\"3393.9255078125007\" y=\"245.0\" dominant-baseline=\"middle\" text-anchor=\"middle\" font-size=\"18px\" font-family=\"Arial\">X</text><circle cx=\"3433.9255078125007\" cy=\"95.0\" r=\"10.0\" /><rect x=\"3413.9255078125007\" y=\"275.0\" width=\"40\" height=\"40\" stroke=\"black\" fill=\"white\" stroke-width=\"1\" /><text x=\"3433.9255078125007\" y=\"295.0\" dominant-baseline=\"middle\" text-anchor=\"middle\" font-size=\"18px\" font-family=\"Arial\">X</text><circle cx=\"3473.9255078125007\" cy=\"145.0\" r=\"10.0\" /><rect x=\"3453.9255078125007\" y=\"325.0\" width=\"40\" height=\"40\" stroke=\"black\" fill=\"white\" stroke-width=\"1\" /><text x=\"3473.9255078125007\" y=\"345.0\" dominant-baseline=\"middle\" text-anchor=\"middle\" font-size=\"18px\" font-family=\"Arial\">X</text><circle cx=\"3513.9255078125007\" cy=\"195.0\" r=\"10.0\" /><rect x=\"3493.9255078125007\" y=\"375.0\" width=\"40\" height=\"40\" stroke=\"black\" fill=\"white\" stroke-width=\"1\" /><text x=\"3513.9255078125007\" y=\"395.0\" dominant-baseline=\"middle\" text-anchor=\"middle\" font-size=\"18px\" font-family=\"Arial\">X</text></svg>"
      ],
      "text/plain": [
       "<cirq.contrib.svg.svg.SVGCircuit at 0x7f283ed4f7c0>"
      ]
     },
     "execution_count": 9,
     "metadata": {},
     "output_type": "execute_result"
    }
   ],
   "source": [
    "save_circuit_to_svg(circuit, show = True)"
   ]
  },
  {
   "cell_type": "markdown",
   "id": "be857f93",
   "metadata": {},
   "source": [
    "## Run variational quantum imaginary time evolution (VarQITE)"
   ]
  },
  {
   "cell_type": "code",
   "execution_count": 10,
   "id": "0f27da63",
   "metadata": {},
   "outputs": [
    {
     "data": {
      "application/vnd.jupyter.widget-view+json": {
       "model_id": "",
       "version_major": 2,
       "version_minor": 0
      },
      "text/plain": [
       "QITE:   0%|          | 0/100 [00:00<?, ?it/s]"
      ]
     },
     "metadata": {},
     "output_type": "display_data"
    },
    {
     "name": "stdout",
     "output_type": "stream",
     "text": [
      "QITE timestep   0: [energy = 0.000, fidelity = 0.502, quantum_relative_entropy = 1.126, trace_distance = 0.599]\n",
      "QITE timestep   1: [energy = 0.000, fidelity = 0.511, quantum_relative_entropy = 1.098, trace_distance = 0.593]\n",
      "QITE timestep   2: [energy = -0.087, fidelity = 0.520, quantum_relative_entropy = 1.071, trace_distance = 0.586]\n",
      "QITE timestep   3: [energy = -0.174, fidelity = 0.529, quantum_relative_entropy = 1.045, trace_distance = 0.580]\n",
      "QITE timestep   4: [energy = -0.260, fidelity = 0.538, quantum_relative_entropy = 1.019, trace_distance = 0.573]\n",
      "QITE timestep   5: [energy = -0.346, fidelity = 0.547, quantum_relative_entropy = 0.993, trace_distance = 0.566]\n",
      "QITE timestep   6: [energy = -0.431, fidelity = 0.556, quantum_relative_entropy = 0.968, trace_distance = 0.560]\n",
      "QITE timestep   7: [energy = -0.516, fidelity = 0.565, quantum_relative_entropy = 0.943, trace_distance = 0.553]\n",
      "QITE timestep   8: [energy = -0.600, fidelity = 0.574, quantum_relative_entropy = 0.918, trace_distance = 0.546]\n",
      "QITE timestep   9: [energy = -0.683, fidelity = 0.583, quantum_relative_entropy = 0.894, trace_distance = 0.539]\n",
      "QITE timestep  10: [energy = -0.766, fidelity = 0.591, quantum_relative_entropy = 0.871, trace_distance = 0.532]\n",
      "QITE timestep  11: [energy = -0.848, fidelity = 0.600, quantum_relative_entropy = 0.848, trace_distance = 0.526]\n",
      "QITE timestep  12: [energy = -0.930, fidelity = 0.609, quantum_relative_entropy = 0.825, trace_distance = 0.520]\n",
      "QITE timestep  13: [energy = -1.010, fidelity = 0.618, quantum_relative_entropy = 0.803, trace_distance = 0.514]\n",
      "QITE timestep  14: [energy = -1.091, fidelity = 0.626, quantum_relative_entropy = 0.781, trace_distance = 0.508]\n",
      "QITE timestep  15: [energy = -1.170, fidelity = 0.635, quantum_relative_entropy = 0.759, trace_distance = 0.502]\n",
      "QITE timestep  16: [energy = -1.249, fidelity = 0.643, quantum_relative_entropy = 0.738, trace_distance = 0.495]\n",
      "QITE timestep  17: [energy = -1.327, fidelity = 0.652, quantum_relative_entropy = 0.717, trace_distance = 0.489]\n",
      "QITE timestep  18: [energy = -1.404, fidelity = 0.660, quantum_relative_entropy = 0.697, trace_distance = 0.483]\n",
      "QITE timestep  19: [energy = -1.481, fidelity = 0.669, quantum_relative_entropy = 0.677, trace_distance = 0.476]\n",
      "QITE timestep  20: [energy = -1.557, fidelity = 0.677, quantum_relative_entropy = 0.657, trace_distance = 0.470]\n",
      "QITE timestep  21: [energy = -1.632, fidelity = 0.685, quantum_relative_entropy = 0.638, trace_distance = 0.464]\n",
      "QITE timestep  22: [energy = -1.706, fidelity = 0.693, quantum_relative_entropy = 0.619, trace_distance = 0.457]\n",
      "QITE timestep  23: [energy = -1.780, fidelity = 0.701, quantum_relative_entropy = 0.601, trace_distance = 0.451]\n",
      "QITE timestep  24: [energy = -1.853, fidelity = 0.709, quantum_relative_entropy = 0.583, trace_distance = 0.444]\n",
      "QITE timestep  25: [energy = -1.925, fidelity = 0.717, quantum_relative_entropy = 0.565, trace_distance = 0.438]\n",
      "QITE timestep  26: [energy = -1.996, fidelity = 0.725, quantum_relative_entropy = 0.548, trace_distance = 0.431]\n",
      "QITE timestep  27: [energy = -2.067, fidelity = 0.732, quantum_relative_entropy = 0.531, trace_distance = 0.425]\n",
      "QITE timestep  28: [energy = -2.136, fidelity = 0.740, quantum_relative_entropy = 0.514, trace_distance = 0.420]\n",
      "QITE timestep  29: [energy = -2.205, fidelity = 0.747, quantum_relative_entropy = 0.498, trace_distance = 0.414]\n",
      "QITE timestep  30: [energy = -2.274, fidelity = 0.755, quantum_relative_entropy = 0.482, trace_distance = 0.408]\n",
      "QITE timestep  31: [energy = -2.341, fidelity = 0.762, quantum_relative_entropy = 0.467, trace_distance = 0.402]\n",
      "QITE timestep  32: [energy = -2.408, fidelity = 0.769, quantum_relative_entropy = 0.452, trace_distance = 0.397]\n",
      "QITE timestep  33: [energy = -2.473, fidelity = 0.776, quantum_relative_entropy = 0.437, trace_distance = 0.391]\n",
      "QITE timestep  34: [energy = -2.538, fidelity = 0.783, quantum_relative_entropy = 0.422, trace_distance = 0.385]\n",
      "QITE timestep  35: [energy = -2.603, fidelity = 0.790, quantum_relative_entropy = 0.408, trace_distance = 0.379]\n",
      "QITE timestep  36: [energy = -2.666, fidelity = 0.797, quantum_relative_entropy = 0.394, trace_distance = 0.373]\n",
      "QITE timestep  37: [energy = -2.729, fidelity = 0.803, quantum_relative_entropy = 0.381, trace_distance = 0.367]\n",
      "QITE timestep  38: [energy = -2.791, fidelity = 0.810, quantum_relative_entropy = 0.367, trace_distance = 0.362]\n",
      "QITE timestep  39: [energy = -2.852, fidelity = 0.816, quantum_relative_entropy = 0.354, trace_distance = 0.356]\n",
      "QITE timestep  40: [energy = -2.912, fidelity = 0.822, quantum_relative_entropy = 0.342, trace_distance = 0.350]\n",
      "QITE timestep  41: [energy = -2.972, fidelity = 0.828, quantum_relative_entropy = 0.329, trace_distance = 0.344]\n",
      "QITE timestep  42: [energy = -3.031, fidelity = 0.834, quantum_relative_entropy = 0.317, trace_distance = 0.338]\n",
      "QITE timestep  43: [energy = -3.089, fidelity = 0.840, quantum_relative_entropy = 0.306, trace_distance = 0.332]\n",
      "QITE timestep  44: [energy = -3.146, fidelity = 0.846, quantum_relative_entropy = 0.294, trace_distance = 0.326]\n",
      "QITE timestep  45: [energy = -3.203, fidelity = 0.851, quantum_relative_entropy = 0.283, trace_distance = 0.320]\n",
      "QITE timestep  46: [energy = -3.259, fidelity = 0.857, quantum_relative_entropy = 0.272, trace_distance = 0.314]\n",
      "QITE timestep  47: [energy = -3.314, fidelity = 0.862, quantum_relative_entropy = 0.262, trace_distance = 0.308]\n",
      "QITE timestep  48: [energy = -3.369, fidelity = 0.868, quantum_relative_entropy = 0.251, trace_distance = 0.302]\n",
      "QITE timestep  49: [energy = -3.422, fidelity = 0.873, quantum_relative_entropy = 0.241, trace_distance = 0.296]\n",
      "QITE timestep  50: [energy = -3.475, fidelity = 0.878, quantum_relative_entropy = 0.232, trace_distance = 0.291]\n",
      "QITE timestep  51: [energy = -3.528, fidelity = 0.883, quantum_relative_entropy = 0.222, trace_distance = 0.285]\n",
      "QITE timestep  52: [energy = -3.579, fidelity = 0.888, quantum_relative_entropy = 0.213, trace_distance = 0.279]\n",
      "QITE timestep  53: [energy = -3.630, fidelity = 0.892, quantum_relative_entropy = 0.204, trace_distance = 0.273]\n",
      "QITE timestep  54: [energy = -3.680, fidelity = 0.897, quantum_relative_entropy = 0.195, trace_distance = 0.267]\n",
      "QITE timestep  55: [energy = -3.730, fidelity = 0.901, quantum_relative_entropy = 0.187, trace_distance = 0.261]\n",
      "QITE timestep  56: [energy = -3.779, fidelity = 0.906, quantum_relative_entropy = 0.179, trace_distance = 0.255]\n",
      "QITE timestep  57: [energy = -3.827, fidelity = 0.910, quantum_relative_entropy = 0.171, trace_distance = 0.250]\n",
      "QITE timestep  58: [energy = -3.875, fidelity = 0.914, quantum_relative_entropy = 0.163, trace_distance = 0.244]\n",
      "QITE timestep  59: [energy = -3.921, fidelity = 0.918, quantum_relative_entropy = 0.155, trace_distance = 0.238]\n",
      "QITE timestep  60: [energy = -3.968, fidelity = 0.922, quantum_relative_entropy = 0.148, trace_distance = 0.232]\n",
      "QITE timestep  61: [energy = -4.013, fidelity = 0.925, quantum_relative_entropy = 0.141, trace_distance = 0.227]\n",
      "QITE timestep  62: [energy = -4.058, fidelity = 0.929, quantum_relative_entropy = 0.134, trace_distance = 0.221]\n",
      "QITE timestep  63: [energy = -4.103, fidelity = 0.933, quantum_relative_entropy = 0.127, trace_distance = 0.215]\n",
      "QITE timestep  64: [energy = -4.147, fidelity = 0.936, quantum_relative_entropy = 0.121, trace_distance = 0.210]\n",
      "QITE timestep  65: [energy = -4.190, fidelity = 0.939, quantum_relative_entropy = 0.115, trace_distance = 0.204]\n",
      "QITE timestep  66: [energy = -4.232, fidelity = 0.943, quantum_relative_entropy = 0.109, trace_distance = 0.199]\n",
      "QITE timestep  67: [energy = -4.274, fidelity = 0.946, quantum_relative_entropy = 0.103, trace_distance = 0.193]\n",
      "QITE timestep  68: [energy = -4.316, fidelity = 0.949, quantum_relative_entropy = 0.098, trace_distance = 0.188]\n",
      "QITE timestep  69: [energy = -4.357, fidelity = 0.951, quantum_relative_entropy = 0.092, trace_distance = 0.182]\n",
      "QITE timestep  70: [energy = -4.397, fidelity = 0.954, quantum_relative_entropy = 0.087, trace_distance = 0.177]\n",
      "QITE timestep  71: [energy = -4.437, fidelity = 0.957, quantum_relative_entropy = 0.082, trace_distance = 0.172]\n",
      "QITE timestep  72: [energy = -4.476, fidelity = 0.960, quantum_relative_entropy = 0.077, trace_distance = 0.166]\n",
      "QITE timestep  73: [energy = -4.515, fidelity = 0.962, quantum_relative_entropy = 0.073, trace_distance = 0.161]\n",
      "QITE timestep  74: [energy = -4.553, fidelity = 0.964, quantum_relative_entropy = 0.068, trace_distance = 0.156]\n",
      "QITE timestep  75: [energy = -4.590, fidelity = 0.967, quantum_relative_entropy = 0.064, trace_distance = 0.151]\n",
      "QITE timestep  76: [energy = -4.627, fidelity = 0.969, quantum_relative_entropy = 0.060, trace_distance = 0.146]\n",
      "QITE timestep  77: [energy = -4.664, fidelity = 0.971, quantum_relative_entropy = 0.056, trace_distance = 0.140]\n",
      "QITE timestep  78: [energy = -4.700, fidelity = 0.973, quantum_relative_entropy = 0.052, trace_distance = 0.135]\n",
      "QITE timestep  79: [energy = -4.736, fidelity = 0.975, quantum_relative_entropy = 0.049, trace_distance = 0.130]\n",
      "QITE timestep  80: [energy = -4.771, fidelity = 0.977, quantum_relative_entropy = 0.045, trace_distance = 0.125]\n",
      "QITE timestep  81: [energy = -4.805, fidelity = 0.978, quantum_relative_entropy = 0.042, trace_distance = 0.121]\n",
      "QITE timestep  82: [energy = -4.840, fidelity = 0.980, quantum_relative_entropy = 0.039, trace_distance = 0.116]\n",
      "QITE timestep  83: [energy = -4.873, fidelity = 0.982, quantum_relative_entropy = 0.036, trace_distance = 0.111]\n",
      "QITE timestep  84: [energy = -4.907, fidelity = 0.983, quantum_relative_entropy = 0.034, trace_distance = 0.106]\n",
      "QITE timestep  85: [energy = -4.939, fidelity = 0.985, quantum_relative_entropy = 0.031, trace_distance = 0.101]\n",
      "QITE timestep  86: [energy = -4.972, fidelity = 0.986, quantum_relative_entropy = 0.029, trace_distance = 0.097]\n",
      "QITE timestep  87: [energy = -5.004, fidelity = 0.987, quantum_relative_entropy = 0.026, trace_distance = 0.092]\n",
      "QITE timestep  88: [energy = -5.035, fidelity = 0.988, quantum_relative_entropy = 0.024, trace_distance = 0.088]\n",
      "QITE timestep  89: [energy = -5.066, fidelity = 0.989, quantum_relative_entropy = 0.022, trace_distance = 0.083]\n",
      "QITE timestep  90: [energy = -5.097, fidelity = 0.990, quantum_relative_entropy = 0.020, trace_distance = 0.079]\n",
      "QITE timestep  91: [energy = -5.127, fidelity = 0.991, quantum_relative_entropy = 0.019, trace_distance = 0.075]\n",
      "QITE timestep  92: [energy = -5.157, fidelity = 0.992, quantum_relative_entropy = 0.017, trace_distance = 0.071]\n",
      "QITE timestep  93: [energy = -5.186, fidelity = 0.993, quantum_relative_entropy = 0.016, trace_distance = 0.067]\n",
      "QITE timestep  94: [energy = -5.215, fidelity = 0.994, quantum_relative_entropy = 0.014, trace_distance = 0.064]\n",
      "QITE timestep  95: [energy = -5.244, fidelity = 0.994, quantum_relative_entropy = 0.013, trace_distance = 0.060]\n",
      "QITE timestep  96: [energy = -5.272, fidelity = 0.995, quantum_relative_entropy = 0.012, trace_distance = 0.057]\n",
      "QITE timestep  97: [energy = -5.300, fidelity = 0.996, quantum_relative_entropy = 0.011, trace_distance = 0.054]\n",
      "QITE timestep  98: [energy = -5.327, fidelity = 0.996, quantum_relative_entropy = 0.010, trace_distance = 0.051]\n",
      "QITE timestep  99: [energy = -5.354, fidelity = 0.996, quantum_relative_entropy = 0.010, trace_distance = 0.048]\n",
      "QITE timestep 100: [energy = -5.381, fidelity = 0.997, quantum_relative_entropy = 0.009, trace_distance = 0.046]\n"
     ]
    }
   ],
   "source": [
    "qite = QITE(verbose = 3)\n",
    "final_symbol_values, final_state, metrics = qite.run(\n",
    "    circuit,\n",
    "    hamiltonian,\n",
    "    symbol_names,\n",
    "    initial_symbol_values,\n",
    "    evolution_time,\n",
    "    exact_state,\n",
    "    n_timesteps=n_timesteps\n",
    ")"
   ]
  },
  {
   "cell_type": "code",
   "execution_count": 16,
   "id": "553ca190",
   "metadata": {},
   "outputs": [
    {
     "data": {
      "image/png": "[encoded data removed]",
      "text/plain": [
       "<Figure size 720x720 with 2 Axes>"
      ]
     },
     "metadata": {},
     "output_type": "display_data"
    }
   ],
   "source": [
    "plot_density_matrix_heatmap([final_state, exact_state], titles = [\"Prepared thermal state\", \"Analytic solution\"], annot = True, size = 10)"
   ]
  },
  {
   "cell_type": "code",
   "execution_count": 23,
   "id": "df385da2",
   "metadata": {},
   "outputs": [
    {
     "data": {
      "text/html": [
       "<div>\n",
       "<style scoped>\n",
       "    .dataframe tbody tr th:only-of-type {\n",
       "        vertical-align: middle;\n",
       "    }\n",
       "\n",
       "    .dataframe tbody tr th {\n",
       "        vertical-align: top;\n",
       "    }\n",
       "\n",
       "    .dataframe thead th {\n",
       "        text-align: right;\n",
       "    }\n",
       "</style>\n",
       "<table border=\"1\" class=\"dataframe\">\n",
       "  <thead>\n",
       "    <tr style=\"text-align: right;\">\n",
       "      <th></th>\n",
       "      <th>time_step</th>\n",
       "      <th>energy</th>\n",
       "      <th>fidelity</th>\n",
       "      <th>quantum_relative_entropy</th>\n",
       "      <th>trace_distance</th>\n",
       "    </tr>\n",
       "  </thead>\n",
       "  <tbody>\n",
       "    <tr>\n",
       "      <th>81</th>\n",
       "      <td>81</td>\n",
       "      <td>-4.874700</td>\n",
       "      <td>0.971470</td>\n",
       "      <td>0.060805</td>\n",
       "      <td>0.138071</td>\n",
       "    </tr>\n",
       "    <tr>\n",
       "      <th>82</th>\n",
       "      <td>82</td>\n",
       "      <td>-4.901995</td>\n",
       "      <td>0.972833</td>\n",
       "      <td>0.058476</td>\n",
       "      <td>0.135156</td>\n",
       "    </tr>\n",
       "    <tr>\n",
       "      <th>83</th>\n",
       "      <td>83</td>\n",
       "      <td>-4.928858</td>\n",
       "      <td>0.974130</td>\n",
       "      <td>0.056270</td>\n",
       "      <td>0.132389</td>\n",
       "    </tr>\n",
       "    <tr>\n",
       "      <th>84</th>\n",
       "      <td>84</td>\n",
       "      <td>-4.955300</td>\n",
       "      <td>0.975365</td>\n",
       "      <td>0.054183</td>\n",
       "      <td>0.129697</td>\n",
       "    </tr>\n",
       "    <tr>\n",
       "      <th>85</th>\n",
       "      <td>85</td>\n",
       "      <td>-4.981328</td>\n",
       "      <td>0.976533</td>\n",
       "      <td>0.052213</td>\n",
       "      <td>0.127079</td>\n",
       "    </tr>\n",
       "    <tr>\n",
       "      <th>86</th>\n",
       "      <td>86</td>\n",
       "      <td>-5.006949</td>\n",
       "      <td>0.977643</td>\n",
       "      <td>0.050357</td>\n",
       "      <td>0.124538</td>\n",
       "    </tr>\n",
       "    <tr>\n",
       "      <th>87</th>\n",
       "      <td>87</td>\n",
       "      <td>-5.032175</td>\n",
       "      <td>0.978690</td>\n",
       "      <td>0.048613</td>\n",
       "      <td>0.122074</td>\n",
       "    </tr>\n",
       "    <tr>\n",
       "      <th>88</th>\n",
       "      <td>88</td>\n",
       "      <td>-5.057012</td>\n",
       "      <td>0.979679</td>\n",
       "      <td>0.046979</td>\n",
       "      <td>0.119690</td>\n",
       "    </tr>\n",
       "    <tr>\n",
       "      <th>89</th>\n",
       "      <td>89</td>\n",
       "      <td>-5.081469</td>\n",
       "      <td>0.980611</td>\n",
       "      <td>0.045451</td>\n",
       "      <td>0.117386</td>\n",
       "    </tr>\n",
       "    <tr>\n",
       "      <th>90</th>\n",
       "      <td>90</td>\n",
       "      <td>-5.105553</td>\n",
       "      <td>0.981485</td>\n",
       "      <td>0.044030</td>\n",
       "      <td>0.115164</td>\n",
       "    </tr>\n",
       "    <tr>\n",
       "      <th>91</th>\n",
       "      <td>91</td>\n",
       "      <td>-5.129271</td>\n",
       "      <td>0.982305</td>\n",
       "      <td>0.042712</td>\n",
       "      <td>0.113027</td>\n",
       "    </tr>\n",
       "    <tr>\n",
       "      <th>92</th>\n",
       "      <td>92</td>\n",
       "      <td>-5.152634</td>\n",
       "      <td>0.983069</td>\n",
       "      <td>0.041495</td>\n",
       "      <td>0.110975</td>\n",
       "    </tr>\n",
       "    <tr>\n",
       "      <th>93</th>\n",
       "      <td>93</td>\n",
       "      <td>-5.175642</td>\n",
       "      <td>0.983782</td>\n",
       "      <td>0.040377</td>\n",
       "      <td>0.109012</td>\n",
       "    </tr>\n",
       "    <tr>\n",
       "      <th>94</th>\n",
       "      <td>94</td>\n",
       "      <td>-5.198308</td>\n",
       "      <td>0.984441</td>\n",
       "      <td>0.039355</td>\n",
       "      <td>0.107138</td>\n",
       "    </tr>\n",
       "    <tr>\n",
       "      <th>95</th>\n",
       "      <td>95</td>\n",
       "      <td>-5.220641</td>\n",
       "      <td>0.985051</td>\n",
       "      <td>0.038428</td>\n",
       "      <td>0.105357</td>\n",
       "    </tr>\n",
       "    <tr>\n",
       "      <th>96</th>\n",
       "      <td>96</td>\n",
       "      <td>-5.242639</td>\n",
       "      <td>0.985610</td>\n",
       "      <td>0.037595</td>\n",
       "      <td>0.103669</td>\n",
       "    </tr>\n",
       "    <tr>\n",
       "      <th>97</th>\n",
       "      <td>97</td>\n",
       "      <td>-5.264318</td>\n",
       "      <td>0.986122</td>\n",
       "      <td>0.036852</td>\n",
       "      <td>0.102135</td>\n",
       "    </tr>\n",
       "    <tr>\n",
       "      <th>98</th>\n",
       "      <td>98</td>\n",
       "      <td>-5.285680</td>\n",
       "      <td>0.986585</td>\n",
       "      <td>0.036199</td>\n",
       "      <td>0.100850</td>\n",
       "    </tr>\n",
       "    <tr>\n",
       "      <th>99</th>\n",
       "      <td>99</td>\n",
       "      <td>-5.306728</td>\n",
       "      <td>0.987004</td>\n",
       "      <td>0.035633</td>\n",
       "      <td>0.099685</td>\n",
       "    </tr>\n",
       "    <tr>\n",
       "      <th>100</th>\n",
       "      <td>100</td>\n",
       "      <td>-5.327477</td>\n",
       "      <td>0.987376</td>\n",
       "      <td>0.035152</td>\n",
       "      <td>0.098766</td>\n",
       "    </tr>\n",
       "  </tbody>\n",
       "</table>\n",
       "</div>"
      ],
      "text/plain": [
       "     time_step    energy  fidelity  quantum_relative_entropy  trace_distance\n",
       "81          81 -4.874700  0.971470                  0.060805        0.138071\n",
       "82          82 -4.901995  0.972833                  0.058476        0.135156\n",
       "83          83 -4.928858  0.974130                  0.056270        0.132389\n",
       "84          84 -4.955300  0.975365                  0.054183        0.129697\n",
       "85          85 -4.981328  0.976533                  0.052213        0.127079\n",
       "86          86 -5.006949  0.977643                  0.050357        0.124538\n",
       "87          87 -5.032175  0.978690                  0.048613        0.122074\n",
       "88          88 -5.057012  0.979679                  0.046979        0.119690\n",
       "89          89 -5.081469  0.980611                  0.045451        0.117386\n",
       "90          90 -5.105553  0.981485                  0.044030        0.115164\n",
       "91          91 -5.129271  0.982305                  0.042712        0.113027\n",
       "92          92 -5.152634  0.983069                  0.041495        0.110975\n",
       "93          93 -5.175642  0.983782                  0.040377        0.109012\n",
       "94          94 -5.198308  0.984441                  0.039355        0.107138\n",
       "95          95 -5.220641  0.985051                  0.038428        0.105357\n",
       "96          96 -5.242639  0.985610                  0.037595        0.103669\n",
       "97          97 -5.264318  0.986122                  0.036852        0.102135\n",
       "98          98 -5.285680  0.986585                  0.036199        0.100850\n",
       "99          99 -5.306728  0.987004                  0.035633        0.099685\n",
       "100        100 -5.327477  0.987376                  0.035152        0.098766"
      ]
     },
     "execution_count": 23,
     "metadata": {},
     "output_type": "execute_result"
    }
   ],
   "source": [
    "df = pd.DataFrame.from_dict(metrics)\n",
    "df.tail(20)"
   ]
  },
  {
   "cell_type": "code",
   "execution_count": null,
   "id": "3869244e",
   "metadata": {},
   "outputs": [],
   "source": []
  }
 ],
 "metadata": {
  "kernelspec": {
   "display_name": "Python 3",
   "language": "python",
   "name": "python3"
  },
  "language_info": {
   "codemirror_mode": {
    "name": "ipython",
    "version": 3
   },
   "file_extension": ".py",
   "mimetype": "text/x-python",
   "name": "python",
   "nbconvert_exporter": "python",
   "pygments_lexer": "ipython3",
   "version": "3.8.8"
  }
 },
 "nbformat": 4,
 "nbformat_minor": 5
}
