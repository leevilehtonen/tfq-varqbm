{
 "cells": [
  {
   "cell_type": "code",
   "execution_count": 60,
   "id": "a0c6cb75",
   "metadata": {},
   "outputs": [],
   "source": [
    "import cirq\n",
    "import numpy as np\n",
    "import tensorflow as tf\n",
    "import tensorflow_quantum as tfq\n",
    "import pandas as pd\n",
    "\n",
    "from qite import QITE\n",
    "from qbm import QBM\n",
    "from circuit import build_ansatz, initialize_ansatz_symbols\n",
    "from problem import build_ising_model_hamiltonian\n",
    "from hamiltonian import Hamiltonian\n",
    "from utils import evaluate_exact_state, plot_density_matrix_heatmap, get_ancillary_qubits, save_circuit_to_svg, circuit_to_state\n",
    "from dataset import bars_and_stripes_probability, bars_and_stripes, samples_from_distribution, plot_dataset"
   ]
  },
  {
   "cell_type": "markdown",
   "id": "5892c3dc",
   "metadata": {},
   "source": [
    "## Define dataset\n",
    "\n",
    "Define dataset, that is the bar and stripes on 2x2 grid and for simplifying we consider empty and fully filled as invalid values "
   ]
  },
  {
   "cell_type": "code",
   "execution_count": 73,
   "id": "6aecb9df",
   "metadata": {},
   "outputs": [
    {
     "name": "stdout",
     "output_type": "stream",
     "text": [
      "[0.   0.   0.   0.25 0.   0.25 0.   0.   0.   0.   0.25 0.   0.25 0.\n",
      " 0.   0.  ]\n"
     ]
    }
   ],
   "source": [
    "p_data = tf.convert_to_tensor(\n",
    "    bars_and_stripes_probability(bars_and_stripes(n=100000, no_fills_or_empties=True))\n",
    ")\n",
    "print(np.around(p_data.numpy(),2))"
   ]
  },
  {
   "cell_type": "markdown",
   "id": "e6efb15c",
   "metadata": {},
   "source": [
    "## Define Hamiltonian and qubits\n",
    "\n",
    "Define Hamiltonian of which coefficients are to be trained so that the thermal state's sampling probabilties would be as close as possible to the data distribution"
   ]
  },
  {
   "cell_type": "code",
   "execution_count": 6,
   "id": "8570ad2a",
   "metadata": {},
   "outputs": [],
   "source": [
    "ising_model, problem_qubits = build_ising_model_hamiltonian(\n",
    "    [4], transverse=None\n",
    ")\n",
    "ancillary_qubits = get_ancillary_qubits(problem_qubits)\n",
    "qubits = [*problem_qubits, *ancillary_qubits]\n",
    "initial_coefficients = tf.random.uniform(\n",
    "    [len(ising_model)], minval=-1, maxval=1\n",
    ")\n",
    "hamiltonian = Hamiltonian(\n",
    "    ising_model,\n",
    "    coefficients=tf.Variable(\n",
    "        tf.identity(initial_coefficients)\n",
    "    ),\n",
    ")"
   ]
  },
  {
   "cell_type": "markdown",
   "id": "b8765b2e",
   "metadata": {},
   "source": [
    "## Define the quantum circuit\n",
    "\n",
    "Define the quantum circuit that is used for VarQITE and the preparation of the thermal state"
   ]
  },
  {
   "cell_type": "code",
   "execution_count": 71,
   "id": "75bcdfa5",
   "metadata": {},
   "outputs": [],
   "source": [
    "n_layers = 3\n",
    "circuit, symbol_names = build_ansatz(qubits, n_layers=n_layers)\n",
    "initial_symbol_values = initialize_ansatz_symbols(\n",
    "    len(qubits), \n",
    "    n_layers=n_layers\n",
    ")"
   ]
  },
  {
   "cell_type": "markdown",
   "id": "61ad7843",
   "metadata": {},
   "source": [
    "## Setup VarQBM model\n",
    "\n",
    "Setup a VarQBM model using mostly defaults, just created circuit, Hamiltonian, circuit symbols and their initial value, and the number of time steps to which the VarQITE is split to inside VarQBM (higher value generally is more accurate but takes more time)"
   ]
  },
  {
   "cell_type": "code",
   "execution_count": null,
   "id": "eec8f3b6",
   "metadata": {},
   "outputs": [],
   "source": [
    "qbm = QBM(\n",
    "    circuit,\n",
    "    symbol_names,\n",
    "    initial_symbol_values,\n",
    "    hamiltonian,\n",
    "    n_timesteps=40,\n",
    "    verbose_qite=3,\n",
    ")"
   ]
  },
  {
   "cell_type": "markdown",
   "id": "a50add6a",
   "metadata": {},
   "source": [
    "## Run VarQBM training\n",
    "Running VarQBM training gives us the Hamiltonian with trained coefficients, the final trained state in density matrix format, trained circuit symbol values and metrics from the training process. (Likely requires redesign for actual hardware, i.e. for the density matrix one could directly here return samples if possible.)"
   ]
  },
  {
   "cell_type": "code",
   "execution_count": 7,
   "id": "4e113108",
   "metadata": {},
   "outputs": [],
   "source": [
    "# trained_hamiltonian, trained_state, trained_symbol_values, metrics = qbm.train(p_data, epochs=40)"
   ]
  },
  {
   "cell_type": "markdown",
   "id": "fa656f86",
   "metadata": {},
   "source": [
    "(To avoid running several hours, here's the result of one \"succesful\" run)"
   ]
  },
  {
   "cell_type": "code",
   "execution_count": 72,
   "id": "7f6be0a9",
   "metadata": {},
   "outputs": [],
   "source": [
    "trained_hamiltonian_coefficients = [\n",
    "    -0.13697385787963867,\n",
    "    -0.15982627868652344,\n",
    "    1.1702172756195068,\n",
    "    2.6191375255584717,\n",
    "    -0.29886317253112793,\n",
    "    -0.29584717750549316,\n",
    "    -0.07853007316589355,\n",
    "    -0.2576768398284912,\n",
    "    -0.2590906620025635,\n",
    "    -0.014436483383178711\n",
    "]\n",
    "trained_hamiltonian = Hamiltonian(ising_model, trained_hamiltonian_coefficients)\n",
    "# One can prepare the thermal state of the trained Hamiltonian again by running VarQITE\n",
    "#trained_symbol_values, state = qbm.run_qite(trained_hamiltonian, skip_metrics=True)\n",
    "trained_symbol_values = [\n",
    "    -0.014642548747360706,\n",
    "    -3.441415117322322e-07,\n",
    "    -0.01728099398314953,\n",
    "    -8.662656000524294e-06,\n",
    "    -0.004501198884099722,\n",
    "    1.1648027793853544e-05,\n",
    "    0.2876802682876587,\n",
    "    -0.00012912784586660564,\n",
    "    -1.3544297627898771e-11,\n",
    "    -6.415218933852884e-08,\n",
    "    -1.2945443328415962e-11,\n",
    "    -3.1357657803710026e-08,\n",
    "    -1.0079138912377772e-11,\n",
    "    -7.583848571357521e-08,\n",
    "    -1.781818442792016e-11,\n",
    "    -2.060415482674216e-07,\n",
    "    -0.014686104841530323,\n",
    "    -9.479756045038812e-06,\n",
    "    -0.016323236748576164,\n",
    "    1.5828969480935484e-05,\n",
    "    0.041991300880908966,\n",
    "    -0.00016045317170210183,\n",
    "    0.07910387963056564,\n",
    "    -0.0002838200598489493,\n",
    "    -3.075627599824493e-11,\n",
    "    -3.1359231655869735e-08,\n",
    "    -1.2116604594658575e-11,\n",
    "    -7.584274896998977e-08,\n",
    "    -1.7822255823918276e-11,\n",
    "    -2.5283253535235417e-07,\n",
    "    -1.7819704045685114e-11,\n",
    "    -2.0604063877271983e-07,\n",
    "    -0.016164422035217285,\n",
    "    2.3528562451247126e-05,\n",
    "    0.009831184521317482,\n",
    "    -0.0001395646104356274,\n",
    "    -1.051080584526062,\n",
    "    -0.00016350357327610254,\n",
    "    0.015614356845617294,\n",
    "    -0.00030664922087453306,\n",
    "    2.5852771312617762e-11,\n",
    "    -1.4341814846829948e-07,\n",
    "    1.8851156746713116e-11,\n",
    "    -1.1220399187550356e-07,\n",
    "    1.2182884909228697e-11,\n",
    "    1.3185865554987686e-07,\n",
    "    1.2183080932981483e-11,\n",
    "    1.3185872660415043e-07,\n",
    "    1.578497290611267,\n",
    "    -8.13862470749882e-07,\n",
    "    1.565839171409607,\n",
    "    -7.825872307876125e-05,\n",
    "    1.509065866470337,\n",
    "    -0.00017533988284412771,\n",
    "    1.5611470937728882,\n",
    "    -4.3912779801758006e-05,\n",
    "    -5.514004183804211e-12,\n",
    "    3.741260456990858e-08,\n",
    "    3.3556379896992894e-11,\n",
    "    1.1650548259467541e-07,\n",
    "    4.171089515447868e-11,\n",
    "    -5.5527948461531196e-08,\n",
    "    4.2645778401684264e-12,\n",
    "    -5.552934823072064e-08,\n",
    "    0.999977171421051,\n",
    "    0.9999960064888,\n",
    "    0.999805212020874,\n",
    "    1.0,\n",
    "    1.0,\n",
    "    1.0,\n",
    "    1.0,\n",
    "    0.9999657273292542,\n",
    "    0.9997722506523132,\n",
    "    0.999398410320282,\n",
    "    1.0,\n",
    "    1.0,\n",
    "    1.0,\n",
    "    1.0,\n",
    "    0.9995574355125427,\n",
    "    0.9996995329856873,\n",
    "    0.999622642993927,\n",
    "    1.0,\n",
    "    1.0,\n",
    "    1.0,\n",
    "    1.0\n",
    "]"
   ]
  },
  {
   "cell_type": "markdown",
   "id": "4f10d0d6",
   "metadata": {},
   "source": [
    "## Pulling samples\n",
    "\n",
    "Cirq and Tfq provides many different ways to get samples given the circuit, symbols and their values. One examples shown below which is easy but relies potentially unrealistic features."
   ]
  },
  {
   "cell_type": "markdown",
   "id": "a8ad1360",
   "metadata": {},
   "source": [
    "### Tfq state layer to get probability distribution\n",
    "Use ``circuit_to_state`` utility function which internally uses Tfq's State layer to get density matrix from which the probability distribution can be easilly acquired"
   ]
  },
  {
   "cell_type": "code",
   "execution_count": 74,
   "id": "e3f8ed89",
   "metadata": {},
   "outputs": [],
   "source": [
    "state = circuit_to_state(\n",
    "    circuit,\n",
    "    symbol_names,\n",
    "    trained_symbol_values,\n",
    "    list(range(len(problem_qubits))),\n",
    ")\n",
    "p_model = np.diag(state.numpy().real)"
   ]
  },
  {
   "cell_type": "markdown",
   "id": "74746162",
   "metadata": {},
   "source": [
    "Draw samples from probability distribution"
   ]
  },
  {
   "cell_type": "code",
   "execution_count": 64,
   "id": "51b46bfb",
   "metadata": {},
   "outputs": [],
   "source": [
    "plot_dataset(samples_from_distribution(p_model), file_format=\"png\", size = 2)"
   ]
  },
  {
   "cell_type": "markdown",
   "id": "4cd596b2",
   "metadata": {},
   "source": [
    "Another way (potentially more \"realistic\") is to use Cirq's simulator to get samples from the problem qubits (i.e. tracing out the ancillary qubits). "
   ]
  },
  {
   "cell_type": "code",
   "execution_count": null,
   "id": "f73c8db8",
   "metadata": {},
   "outputs": [],
   "source": []
  }
 ],
 "metadata": {
  "kernelspec": {
   "display_name": "Python 3",
   "language": "python",
   "name": "python3"
  },
  "language_info": {
   "codemirror_mode": {
    "name": "ipython",
    "version": 3
   },
   "file_extension": ".py",
   "mimetype": "text/x-python",
   "name": "python",
   "nbconvert_exporter": "python",
   "pygments_lexer": "ipython3",
   "version": "3.8.8"
  }
 },
 "nbformat": 4,
 "nbformat_minor": 5
}
